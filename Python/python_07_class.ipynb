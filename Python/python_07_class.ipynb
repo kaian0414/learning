{
  "nbformat": 4,
  "nbformat_minor": 0,
  "metadata": {
    "colab": {
      "provenance": []
    },
    "kernelspec": {
      "name": "python3",
      "display_name": "Python 3"
    },
    "language_info": {
      "name": "python"
    }
  },
  "cells": [
    {
      "cell_type": "code",
      "execution_count": 64,
      "metadata": {
        "id": "NJYz3zw8TbWi"
      },
      "outputs": [],
      "source": [
        "# 共用的class - cat\n",
        "class Car():\n",
        "  # 初始化屬性\n",
        "  def __init__(self, brand, model, year): # 不可缺少了self\n",
        "    self.brand = brand\n",
        "    self.model = model\n",
        "    self.year = year\n",
        "    self.mileage = 0\n",
        "    \n",
        "  def get_main_info(self):\n",
        "    print(f'brand: {self.brand}, model: {self.model}, year: {self.year}')\n",
        "  \n",
        "  def get_mileage(self):\n",
        "    return f'total mileages: {self.mileage} km'\n",
        "  \n",
        "  def set_mileage(self, distance):\n",
        "    if distance >= 0:\n",
        "      self.mileage = distance\n",
        "    else:\n",
        "      print('mileage cannot be negative.')\n",
        "\n",
        "  def increase_mileage(self, distance):\n",
        "    if distance >= 0:\n",
        "      self.mileage += distance\n",
        "    else:\n",
        "      print('increment cannot be negative')"
      ]
    },
    {
      "cell_type": "code",
      "source": [
        "# 創建實例\n",
        "my_car = Car('Audi', 'A6', 2018)"
      ],
      "metadata": {
        "id": "6q37rYzIVlhY"
      },
      "execution_count": 65,
      "outputs": []
    },
    {
      "cell_type": "code",
      "source": [
        "# 調用屬性\n",
        "print(my_car.brand)"
      ],
      "metadata": {
        "colab": {
          "base_uri": "https://localhost:8080/"
        },
        "id": "F886AzXVVuL8",
        "outputId": "223ed805-a338-4d3f-83e0-ee7bc869b0f8"
      },
      "execution_count": 66,
      "outputs": [
        {
          "output_type": "stream",
          "name": "stdout",
          "text": [
            "Audi\n"
          ]
        }
      ]
    },
    {
      "cell_type": "code",
      "source": [
        "# 調用method\n",
        "my_car.get_main_info()"
      ],
      "metadata": {
        "colab": {
          "base_uri": "https://localhost:8080/"
        },
        "id": "73ZjP74SV_Lr",
        "outputId": "2f610228-aa1e-4b8a-d752-2fe43ad3d72a"
      },
      "execution_count": 67,
      "outputs": [
        {
          "output_type": "stream",
          "name": "stdout",
          "text": [
            "brand: Audi, model: A6, year: 2018\n"
          ]
        }
      ]
    },
    {
      "cell_type": "code",
      "source": [
        "m = my_car.get_mileage()\n",
        "print(m)"
      ],
      "metadata": {
        "colab": {
          "base_uri": "https://localhost:8080/"
        },
        "id": "8vMyCrF_WC2e",
        "outputId": "2eb87360-3683-4f90-ac9a-bf5ec22d1067"
      },
      "execution_count": 68,
      "outputs": [
        {
          "output_type": "stream",
          "name": "stdout",
          "text": [
            "total mileages: 0 km\n"
          ]
        }
      ]
    },
    {
      "cell_type": "code",
      "source": [
        "# 修改屬性 (直接修改)\n",
        "my_car.mileage = 1200\n",
        "print(my_car.mileage)"
      ],
      "metadata": {
        "colab": {
          "base_uri": "https://localhost:8080/"
        },
        "id": "or235b07ZO4k",
        "outputId": "5f60ed00-7a0a-4dcf-c0e4-9fb45abada40"
      },
      "execution_count": 69,
      "outputs": [
        {
          "output_type": "stream",
          "name": "stdout",
          "text": [
            "1200\n"
          ]
        }
      ]
    },
    {
      "cell_type": "code",
      "source": [
        "# 修改屬性 (通過method修改)\n",
        "my_car.set_mileage(800)\n",
        "print(my_car.get_mileage())"
      ],
      "metadata": {
        "colab": {
          "base_uri": "https://localhost:8080/"
        },
        "id": "ubLWxKwtZbx2",
        "outputId": "4a484350-f82f-4b00-bbfe-d6f8e768b135"
      },
      "execution_count": 70,
      "outputs": [
        {
          "output_type": "stream",
          "name": "stdout",
          "text": [
            "total mileages: 800 km\n"
          ]
        }
      ]
    },
    {
      "cell_type": "code",
      "source": [
        "my_car.increase_mileage(500)\n",
        "my_car.get_mileage()"
      ],
      "metadata": {
        "colab": {
          "base_uri": "https://localhost:8080/",
          "height": 35
        },
        "id": "RvAXSF6faGqS",
        "outputId": "1f792026-330b-4671-f512-e291056a62d9"
      },
      "execution_count": 71,
      "outputs": [
        {
          "output_type": "execute_result",
          "data": {
            "text/plain": [
              "'total mileages: 1300 km'"
            ],
            "application/vnd.google.colaboratory.intrinsic+json": {
              "type": "string"
            }
          },
          "metadata": {},
          "execution_count": 71
        }
      ]
    },
    {
      "cell_type": "code",
      "source": [
        "# 繼承 (以Car()為父類)\n",
        "\n",
        "# 新建立ElectronicCar()為子類\n",
        "class ElectronicCar(Car):\n",
        "  def __init__(self, brand, model, year, bettery_size):\n",
        "    super().__init__(brand, model, year) # 聲明繼承父類的屬性\n",
        "    self.bettery_size = bettery_size\n",
        "\n",
        "  # 重宗"
      ],
      "metadata": {
        "id": "VKFD9b9iazby"
      },
      "execution_count": 76,
      "outputs": []
    },
    {
      "cell_type": "code",
      "source": [
        "my_ele_car = ElectronicCar('tmw', 'FF91', 2046, 30000)\n",
        "my_ele_car.get_main_info()"
      ],
      "metadata": {
        "colab": {
          "base_uri": "https://localhost:8080/"
        },
        "id": "6N8U_whBd_uI",
        "outputId": "130d37f8-6915-4058-f78a-646e1d0b50fa"
      },
      "execution_count": 78,
      "outputs": [
        {
          "output_type": "stream",
          "name": "stdout",
          "text": [
            "brand: tmw, model: FF91, year: 2046\n"
          ]
        }
      ]
    },
    {
      "cell_type": "code",
      "source": [
        "my_ele_car.bettery_size"
      ],
      "metadata": {
        "colab": {
          "base_uri": "https://localhost:8080/"
        },
        "id": "_0RVlEkoeW0k",
        "outputId": "e30ad511-7fb9-47eb-abda-3790e4ee1d78"
      },
      "execution_count": 80,
      "outputs": [
        {
          "output_type": "execute_result",
          "data": {
            "text/plain": [
              "30000"
            ]
          },
          "metadata": {},
          "execution_count": 80
        }
      ]
    }
  ]
}