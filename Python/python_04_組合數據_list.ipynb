{
  "nbformat": 4,
  "nbformat_minor": 0,
  "metadata": {
    "colab": {
      "provenance": []
    },
    "kernelspec": {
      "name": "python3",
      "display_name": "Python 3"
    },
    "language_info": {
      "name": "python"
    }
  },
  "cells": [
    {
      "cell_type": "code",
      "execution_count": 4,
      "metadata": {
        "colab": {
          "base_uri": "https://localhost:8080/"
        },
        "id": "GPklrQbWVZ7v",
        "outputId": "4f8525fc-9e16-4910-a3af-c7a0d681b532"
      },
      "outputs": [
        {
          "output_type": "execute_result",
          "data": {
            "text/plain": [
              "['我', '學', '編', '程']"
            ]
          },
          "metadata": {},
          "execution_count": 4
        }
      ],
      "source": [
        "# str to list\n",
        "st = '我學編程'\n",
        "list(st)"
      ]
    },
    {
      "cell_type": "code",
      "source": [
        "# tuple to list\n",
        "t = ('我', '學', '編', '程')\n",
        "list((t))"
      ],
      "metadata": {
        "colab": {
          "base_uri": "https://localhost:8080/"
        },
        "id": "t34ypkhMV2v5",
        "outputId": "be4cc930-7b69-4094-a7f1-0daecd5bf03e"
      },
      "execution_count": 3,
      "outputs": [
        {
          "output_type": "execute_result",
          "data": {
            "text/plain": [
              "['我', '學', '編', '程']"
            ]
          },
          "metadata": {},
          "execution_count": 3
        }
      ]
    },
    {
      "cell_type": "code",
      "source": [
        "# set to list\n",
        "s = {'我', '學', '編', '程'}\n",
        "list(s)"
      ],
      "metadata": {
        "colab": {
          "base_uri": "https://localhost:8080/"
        },
        "id": "-aa_bVP7WHlg",
        "outputId": "4dca114c-20ec-413c-b3e8-ae9e235ad26f"
      },
      "execution_count": 5,
      "outputs": [
        {
          "output_type": "execute_result",
          "data": {
            "text/plain": [
              "['我', '學', '編', '程']"
            ]
          },
          "metadata": {},
          "execution_count": 5
        }
      ]
    },
    {
      "cell_type": "code",
      "source": [
        "# range generates list\n",
        "for i in range(6):\n",
        "  print(i)"
      ],
      "metadata": {
        "colab": {
          "base_uri": "https://localhost:8080/"
        },
        "id": "UZM2UpRVWRjY",
        "outputId": "67b243ee-21f8-4336-cf3e-57e322fc996f"
      },
      "execution_count": 6,
      "outputs": [
        {
          "output_type": "stream",
          "name": "stdout",
          "text": [
            "0\n",
            "1\n",
            "2\n",
            "3\n",
            "4\n",
            "5\n"
          ]
        }
      ]
    },
    {
      "cell_type": "code",
      "source": [
        "for i in range(3, 6):\n",
        "  print(i)"
      ],
      "metadata": {
        "colab": {
          "base_uri": "https://localhost:8080/"
        },
        "id": "jePUme_xWbFN",
        "outputId": "2b4e145c-aecd-4ace-b94f-0c5168a18163"
      },
      "execution_count": 7,
      "outputs": [
        {
          "output_type": "stream",
          "name": "stdout",
          "text": [
            "3\n",
            "4\n",
            "5\n"
          ]
        }
      ]
    },
    {
      "cell_type": "code",
      "source": [
        "for i in range(1, 6, 2):\n",
        "  print(i)"
      ],
      "metadata": {
        "colab": {
          "base_uri": "https://localhost:8080/"
        },
        "id": "Us1X1UiqWgbp",
        "outputId": "8b8536c3-1e47-411d-bdde-3c157097397a"
      },
      "execution_count": 8,
      "outputs": [
        {
          "output_type": "stream",
          "name": "stdout",
          "text": [
            "1\n",
            "3\n",
            "5\n"
          ]
        }
      ]
    },
    {
      "cell_type": "code",
      "source": [
        "# 索引 (取第幾個)\n",
        "ls = ['我', '學', '編', '程']\n",
        "ls[2]"
      ],
      "metadata": {
        "colab": {
          "base_uri": "https://localhost:8080/",
          "height": 36
        },
        "id": "qMyWJiJsWkcZ",
        "outputId": "eeb878b6-4c93-4af9-b81a-5140e733623b"
      },
      "execution_count": 9,
      "outputs": [
        {
          "output_type": "execute_result",
          "data": {
            "text/plain": [
              "'編'"
            ],
            "application/vnd.google.colaboratory.intrinsic+json": {
              "type": "string"
            }
          },
          "metadata": {},
          "execution_count": 9
        }
      ]
    },
    {
      "cell_type": "code",
      "source": [
        "# 索引 (取第幾到第幾個)\n",
        "ls = ['我', '學', '編', '程']\n",
        "ls[1:3]"
      ],
      "metadata": {
        "colab": {
          "base_uri": "https://localhost:8080/"
        },
        "id": "yaQHq80uW8Ko",
        "outputId": "6312500d-dfec-4780-b742-98d0b263c870"
      },
      "execution_count": 11,
      "outputs": [
        {
          "output_type": "execute_result",
          "data": {
            "text/plain": [
              "['學', '編']"
            ]
          },
          "metadata": {},
          "execution_count": 11
        }
      ]
    },
    {
      "cell_type": "code",
      "source": [
        "# 索引 (從最後取第幾個)\n",
        "ls = ['我', '學', '編', '程']\n",
        "ls[-1]"
      ],
      "metadata": {
        "colab": {
          "base_uri": "https://localhost:8080/",
          "height": 36
        },
        "id": "HJcs1xmMW93Q",
        "outputId": "85aaf6e5-d51e-43bf-c863-ca5ffaede42b"
      },
      "execution_count": 12,
      "outputs": [
        {
          "output_type": "execute_result",
          "data": {
            "text/plain": [
              "'程'"
            ],
            "application/vnd.google.colaboratory.intrinsic+json": {
              "type": "string"
            }
          },
          "metadata": {},
          "execution_count": 12
        }
      ]
    },
    {
      "cell_type": "code",
      "source": [
        "# 列表拼接\n",
        "ls_1 = [1, 2]\n",
        "ls_2 = [3, 4]\n",
        "ls_1 + ls_2"
      ],
      "metadata": {
        "colab": {
          "base_uri": "https://localhost:8080/"
        },
        "id": "93zNUV17XOEL",
        "outputId": "7033523e-afa6-4fe3-9bec-323d49f28a62"
      },
      "execution_count": 13,
      "outputs": [
        {
          "output_type": "execute_result",
          "data": {
            "text/plain": [
              "[1, 2, 3, 4]"
            ]
          },
          "metadata": {},
          "execution_count": 13
        }
      ]
    },
    {
      "cell_type": "code",
      "source": [
        "# add element at the end\n",
        "ls = ['我', '學', '編', '程']\n",
        "ls.append('呀')\n",
        "print(ls)"
      ],
      "metadata": {
        "colab": {
          "base_uri": "https://localhost:8080/"
        },
        "id": "EwaiXwuYXnMC",
        "outputId": "305981cc-7e90-4212-c576-2a5ebd11c511"
      },
      "execution_count": 16,
      "outputs": [
        {
          "output_type": "stream",
          "name": "stdout",
          "text": [
            "['我', '學', '編', '程', '呀']\n"
          ]
        }
      ]
    },
    {
      "cell_type": "code",
      "source": [
        "# insert ele in somewhere\n",
        "ls = ['我', '學', '編', '程']\n",
        "ls.insert(1, '在')\n",
        "print(ls)"
      ],
      "metadata": {
        "colab": {
          "base_uri": "https://localhost:8080/"
        },
        "id": "is8xuYBJZvJL",
        "outputId": "d12ee35c-f093-47a3-85aa-82cde569131b"
      },
      "execution_count": 18,
      "outputs": [
        {
          "output_type": "stream",
          "name": "stdout",
          "text": [
            "['我', '在', '學', '編', '程']\n"
          ]
        }
      ]
    },
    {
      "cell_type": "code",
      "source": [
        "# del specific ele from list\n",
        "ls = ['我', '學', '編', '程']\n",
        "ls.pop(1)\n",
        "print(ls)"
      ],
      "metadata": {
        "colab": {
          "base_uri": "https://localhost:8080/"
        },
        "id": "ZeQCsVLKZ_mQ",
        "outputId": "7fa3633c-f802-4509-c61f-f387b49f0dec"
      },
      "execution_count": 19,
      "outputs": [
        {
          "output_type": "stream",
          "name": "stdout",
          "text": [
            "['我', '編', '程']\n"
          ]
        }
      ]
    },
    {
      "cell_type": "code",
      "source": [
        "# remove specific ele from list\n",
        "ls = ['我', '學', '編', '程']\n",
        "ls.remove('學') # 即使是同一個str, 每次只刪除靠前的一個\n",
        "print(ls)"
      ],
      "metadata": {
        "colab": {
          "base_uri": "https://localhost:8080/"
        },
        "id": "q2hf1SsDaTOd",
        "outputId": "35ccd3e7-e827-4cc5-cae3-33db1e55e740"
      },
      "execution_count": 21,
      "outputs": [
        {
          "output_type": "stream",
          "name": "stdout",
          "text": [
            "['我', '編', '程']\n"
          ]
        }
      ]
    },
    {
      "cell_type": "code",
      "source": [
        "# 查找ele\n",
        "ls = ['我', '學', '編', '程']\n",
        "idx = ls.index('我')\n",
        "print(idx)"
      ],
      "metadata": {
        "colab": {
          "base_uri": "https://localhost:8080/"
        },
        "id": "FA5u8n7-aafP",
        "outputId": "601f1854-f034-4866-aacb-a3b8cac4428e"
      },
      "execution_count": 22,
      "outputs": [
        {
          "output_type": "stream",
          "name": "stdout",
          "text": [
            "0\n"
          ]
        }
      ]
    },
    {
      "cell_type": "code",
      "source": [],
      "metadata": {
        "id": "4b4o6EWcavUu"
      },
      "execution_count": null,
      "outputs": []
    }
  ]
}