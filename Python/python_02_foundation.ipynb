{
  "nbformat": 4,
  "nbformat_minor": 0,
  "metadata": {
    "colab": {
      "provenance": []
    },
    "kernelspec": {
      "name": "python3",
      "display_name": "Python 3"
    },
    "language_info": {
      "name": "python"
    }
  },
  "cells": [
    {
      "cell_type": "code",
      "source": [
        "# Python的組合類型 (list, tuple, dictionary, set)"
      ],
      "metadata": {
        "id": "3FoNgcrPK1nW"
      },
      "execution_count": null,
      "outputs": []
    },
    {
      "cell_type": "code",
      "source": [
        "# list 列表\n",
        "a_list = [1, 2, 3, 4, 5] # with sequence\n",
        "print(f'the third element in a_list: {a_list[2]}') # index start with 0"
      ],
      "metadata": {
        "colab": {
          "base_uri": "https://localhost:8080/"
        },
        "id": "-NpbbS08K1Oc",
        "outputId": "c3e071c1-7125-41e3-96bc-6261e3b40e72"
      },
      "execution_count": 7,
      "outputs": [
        {
          "output_type": "stream",
          "name": "stdout",
          "text": [
            "the third element in a_list: 3\n"
          ]
        }
      ]
    },
    {
      "cell_type": "code",
      "source": [
        "# tuple 元組 (不可變列表)\n",
        "a_tuple = (1, 9, 9, 8, 0, 4, 1, 4) # unable to modify elements after declare\n",
        "print(f'the second element in a_tuple: {a_tuple[1]}')"
      ],
      "metadata": {
        "colab": {
          "base_uri": "https://localhost:8080/"
        },
        "id": "fe0X2Bi0LePv",
        "outputId": "ccff4595-e19a-4fc6-9963-70551560beba"
      },
      "execution_count": 8,
      "outputs": [
        {
          "output_type": "stream",
          "name": "stdout",
          "text": [
            "the second element in a_tuple: 9\n"
          ]
        }
      ]
    },
    {
      "cell_type": "code",
      "source": [
        "# dictionary 字典 (無序)\n",
        "a_dict = {\n",
        "    1601: 'Peter',\n",
        "    1602: 'Lucas',\n",
        "    1603: 'Brian'\n",
        "}\n",
        "print(f'Use key to get value: {a_dict[1603]}')"
      ],
      "metadata": {
        "colab": {
          "base_uri": "https://localhost:8080/"
        },
        "id": "y7UiRAKtMCFc",
        "outputId": "c1ffd7f7-6178-468b-feda-7f03284e17e2"
      },
      "execution_count": 10,
      "outputs": [
        {
          "output_type": "stream",
          "name": "stdout",
          "text": [
            "Use key to get value: Brian\n"
          ]
        }
      ]
    },
    {
      "cell_type": "code",
      "source": [
        "# set 集合 (一系列無序、不存在相等的集合)\n",
        "a_set = {'apple', 'orange', 'banana', 'apple'}\n",
        "print(a_set)"
      ],
      "metadata": {
        "colab": {
          "base_uri": "https://localhost:8080/"
        },
        "id": "usen2LgPM9JQ",
        "outputId": "afe489ed-e098-4320-98af-90452e6d59f5"
      },
      "execution_count": 11,
      "outputs": [
        {
          "output_type": "stream",
          "name": "stdout",
          "text": [
            "{'banana', 'apple', 'orange'}\n"
          ]
        }
      ]
    },
    {
      "cell_type": "code",
      "source": [
        "# declaring var at the same time\n",
        "x, y = 1, 2\n",
        "print(f'x is {x}')\n",
        "print(f'y is {y}')"
      ],
      "metadata": {
        "colab": {
          "base_uri": "https://localhost:8080/"
        },
        "id": "dQBJjBS8N10l",
        "outputId": "cf9cfb04-e449-43ae-b821-e26e0caed89f"
      },
      "execution_count": 12,
      "outputs": [
        {
          "output_type": "stream",
          "name": "stdout",
          "text": [
            "x is 1\n",
            "y is 2\n"
          ]
        }
      ]
    },
    {
      "cell_type": "code",
      "source": [
        "# exanging x and y\n",
        "x, y = y, x\n",
        "print(f'x is {x}')\n",
        "print(f'y is {y}')"
      ],
      "metadata": {
        "colab": {
          "base_uri": "https://localhost:8080/"
        },
        "id": "c9DXm9SEVJKO",
        "outputId": "0462ba3a-a808-41f0-a408-06c6f8ae913d"
      },
      "execution_count": 13,
      "outputs": [
        {
          "output_type": "stream",
          "name": "stdout",
          "text": [
            "x is 2\n",
            "y is 1\n"
          ]
        }
      ]
    },
    {
      "cell_type": "code",
      "source": [
        "# for-loop\n",
        "res = 0\n",
        "for i in [1, 2, 3, 4, 5]:\n",
        "  res += i\n",
        "  i += 1\n",
        "print(f'res: {res}')"
      ],
      "metadata": {
        "colab": {
          "base_uri": "https://localhost:8080/"
        },
        "id": "Cgr_A0QGVSjM",
        "outputId": "784947f3-7dec-4baa-a78d-c2d2f1c90319"
      },
      "execution_count": 18,
      "outputs": [
        {
          "output_type": "stream",
          "name": "stdout",
          "text": [
            "res: 15\n"
          ]
        }
      ]
    },
    {
      "cell_type": "code",
      "source": [
        "# while-loop\n",
        "res = 0\n",
        "i = 1\n",
        "while i <= 5:\n",
        "  res += i\n",
        "  i += 1\n",
        "print(f'i: {i}') # i=6, so it cannot be put into while-loop\n",
        "print(f'res: {res}')"
      ],
      "metadata": {
        "colab": {
          "base_uri": "https://localhost:8080/"
        },
        "id": "LuxtwY8fW-4X",
        "outputId": "df304c2c-0124-46a1-a672-4a2c89a33494"
      },
      "execution_count": 19,
      "outputs": [
        {
          "output_type": "stream",
          "name": "stdout",
          "text": [
            "i: 6\n",
            "res: 15\n"
          ]
        }
      ]
    },
    {
      "cell_type": "code",
      "source": [
        "# input (inputted value is String)\n",
        "a_input = input('Please enter an int: ')\n",
        "print(f'the inputted int is: {a_input}')\n",
        "print(f'type of inputted value:{type(a_input)}') # str"
      ],
      "metadata": {
        "colab": {
          "base_uri": "https://localhost:8080/"
        },
        "id": "JaXb9yQBXQGN",
        "outputId": "675ea870-a87d-4db5-e782-dd6ecc517f22"
      },
      "execution_count": 22,
      "outputs": [
        {
          "output_type": "stream",
          "name": "stdout",
          "text": [
            "Please enter an int: 14\n",
            "the inputted int is: 14\n",
            "type of inputted value:<class 'str'>\n"
          ]
        }
      ]
    },
    {
      "cell_type": "code",
      "source": [
        "# eval (remove the quotation)\n",
        "a_eval = eval(a_input)\n",
        "print(f'a_eval: {a_eval}')\n",
        "print(f'type of a_eval: {type(a_eval)}')"
      ],
      "metadata": {
        "colab": {
          "base_uri": "https://localhost:8080/"
        },
        "id": "BdwkLr5qXspw",
        "outputId": "1865bee5-6960-4b36-a560-1fb3cc46b3b8"
      },
      "execution_count": 24,
      "outputs": [
        {
          "output_type": "stream",
          "name": "stdout",
          "text": [
            "a_eval: 14\n",
            "type of a_eval: <class 'int'>\n"
          ]
        }
      ]
    },
    {
      "cell_type": "code",
      "source": [
        "# 單行注解\n",
        "\n",
        "\"\"\"\n",
        "多\n",
        "行\n",
        "注\n",
        "解\n",
        "\"\"\""
      ],
      "metadata": {
        "colab": {
          "base_uri": "https://localhost:8080/",
          "height": 35
        },
        "id": "wEsaty3-YMwU",
        "outputId": "1801f919-a15c-4943-cdfc-2e867ae251ff"
      },
      "execution_count": 25,
      "outputs": [
        {
          "output_type": "execute_result",
          "data": {
            "text/plain": [
              "'\\n多\\n行\\n注\\n解\\n'"
            ],
            "application/vnd.google.colaboratory.intrinsic+json": {
              "type": "string"
            }
          },
          "metadata": {},
          "execution_count": 25
        }
      ]
    }
  ]
}