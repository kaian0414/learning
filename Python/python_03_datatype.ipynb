{
  "nbformat": 4,
  "nbformat_minor": 0,
  "metadata": {
    "colab": {
      "provenance": []
    },
    "kernelspec": {
      "name": "python3",
      "display_name": "Python 3"
    },
    "language_info": {
      "name": "python"
    }
  },
  "cells": [
    {
      "cell_type": "code",
      "execution_count": 2,
      "metadata": {
        "colab": {
          "base_uri": "https://localhost:8080/"
        },
        "id": "N7VMGh88I-Eu",
        "outputId": "9db7ba27-45a7-45e8-c4b7-86bcf836b269"
      },
      "outputs": [
        {
          "output_type": "stream",
          "name": "stdout",
          "text": [
            "100 to binary: 0b1100100\n",
            "100 to octal: 0o144\n",
            "100 to hexadecimal: 0x64\n"
          ]
        }
      ],
      "source": [
        "# 十進制與其他轉換\n",
        "num = 100\n",
        "\n",
        "to_binary = bin(num)\n",
        "print(f'{num} to binary: {to_binary}')\n",
        "\n",
        "to_octal = oct(num)\n",
        "print(f'{num} to octal: {to_octal}')\n",
        "\n",
        "to_hexadecimal = hex(num)\n",
        "print(f'{num} to hexadecimal: {to_hexadecimal}')"
      ]
    },
    {
      "cell_type": "code",
      "source": [
        "# 其他進制轉十進制\n",
        "bin_to_dec = int(to_binary, 2)\n",
        "oct_to_dec = int(to_octal, 8)\n",
        "hex_to_dec = int(to_hexadecimal, 16)"
      ],
      "metadata": {
        "id": "ZLNPMiNMJm-W"
      },
      "execution_count": 5,
      "outputs": []
    },
    {
      "cell_type": "code",
      "source": [
        "# 四捨五入\n",
        "a = 0.1 + 0.7\n",
        "print(f'a is {a}')\n",
        "b = round(a, 1)\n",
        "print(f'b is {b}')"
      ],
      "metadata": {
        "colab": {
          "base_uri": "https://localhost:8080/"
        },
        "id": "J0Ib7zOjKrJG",
        "outputId": "e56f7495-4cee-423e-8216-657801ba2c0d"
      },
      "execution_count": 8,
      "outputs": [
        {
          "output_type": "stream",
          "name": "stdout",
          "text": [
            "a is 0.7999999999999999\n",
            "b is 0.8\n"
          ]
        }
      ]
    },
    {
      "cell_type": "code",
      "source": [
        "(1 + 2 - 3 * 4) / 5"
      ],
      "metadata": {
        "colab": {
          "base_uri": "https://localhost:8080/"
        },
        "id": "2oFfT6vYLV6M",
        "outputId": "f5588984-79e9-4807-d1a6-c6c2334d97e4"
      },
      "execution_count": 9,
      "outputs": [
        {
          "output_type": "execute_result",
          "data": {
            "text/plain": [
              "-1.8"
            ]
          },
          "metadata": {},
          "execution_count": 9
        }
      ]
    },
    {
      "cell_type": "code",
      "source": [
        "# 向下取整\n",
        "13 // 5\n"
      ],
      "metadata": {
        "colab": {
          "base_uri": "https://localhost:8080/"
        },
        "id": "AbofZfePLtRZ",
        "outputId": "7744815a-3cb3-4da1-afa8-f8ae23b399a5"
      },
      "execution_count": 10,
      "outputs": [
        {
          "output_type": "execute_result",
          "data": {
            "text/plain": [
              "2"
            ]
          },
          "metadata": {},
          "execution_count": 10
        }
      ]
    },
    {
      "cell_type": "code",
      "source": [
        "# 取餘數\n",
        "13 % 5"
      ],
      "metadata": {
        "colab": {
          "base_uri": "https://localhost:8080/"
        },
        "id": "9sMzWCA_L2fX",
        "outputId": "f3adb0aa-fcdb-45cb-ee24-d0ce37d31265"
      },
      "execution_count": 11,
      "outputs": [
        {
          "output_type": "execute_result",
          "data": {
            "text/plain": [
              "3"
            ]
          },
          "metadata": {},
          "execution_count": 11
        }
      ]
    },
    {
      "cell_type": "code",
      "source": [
        "# 絕對值\n",
        "abs(-10)"
      ],
      "metadata": {
        "colab": {
          "base_uri": "https://localhost:8080/"
        },
        "id": "BCF8tfnKL6vL",
        "outputId": "0233f6d4-b38b-4bdd-9421-ce35eceef572"
      },
      "execution_count": 13,
      "outputs": [
        {
          "output_type": "execute_result",
          "data": {
            "text/plain": [
              "10"
            ]
          },
          "metadata": {},
          "execution_count": 13
        }
      ]
    },
    {
      "cell_type": "code",
      "source": [
        "# 次方\n",
        "pow(2, 3) # 2^3"
      ],
      "metadata": {
        "colab": {
          "base_uri": "https://localhost:8080/"
        },
        "id": "4ue3SkYcMJKc",
        "outputId": "ddc96966-bc95-4030-ad74-03af143967e9"
      },
      "execution_count": 14,
      "outputs": [
        {
          "output_type": "execute_result",
          "data": {
            "text/plain": [
              "8"
            ]
          },
          "metadata": {},
          "execution_count": 14
        }
      ]
    },
    {
      "cell_type": "code",
      "source": [
        "pow(2, 3, 5) # 2^3%5"
      ],
      "metadata": {
        "colab": {
          "base_uri": "https://localhost:8080/"
        },
        "id": "lZd01tizMNmZ",
        "outputId": "5c1c18c5-09ee-41f0-fb17-772ec01fac82"
      },
      "execution_count": 15,
      "outputs": [
        {
          "output_type": "execute_result",
          "data": {
            "text/plain": [
              "3"
            ]
          },
          "metadata": {},
          "execution_count": 15
        }
      ]
    },
    {
      "cell_type": "code",
      "source": [
        "# 最大值\n",
        "max(2, 3, 5, 7, 2, 5, 1, 0)"
      ],
      "metadata": {
        "colab": {
          "base_uri": "https://localhost:8080/"
        },
        "id": "m34uSCJVMUST",
        "outputId": "111d10ae-21ba-46ec-8d09-5b65640e332e"
      },
      "execution_count": 16,
      "outputs": [
        {
          "output_type": "execute_result",
          "data": {
            "text/plain": [
              "7"
            ]
          },
          "metadata": {},
          "execution_count": 16
        }
      ]
    },
    {
      "cell_type": "code",
      "source": [
        "# 最小值\n",
        "min(9, 34, 56, 2, 767, 3)"
      ],
      "metadata": {
        "colab": {
          "base_uri": "https://localhost:8080/"
        },
        "id": "pgAVG0wHMkqD",
        "outputId": "b3520378-5b0e-40e3-d778-5b3f7ed13442"
      },
      "execution_count": 17,
      "outputs": [
        {
          "output_type": "execute_result",
          "data": {
            "text/plain": [
              "2"
            ]
          },
          "metadata": {},
          "execution_count": 17
        }
      ]
    },
    {
      "cell_type": "code",
      "source": [
        "# sum\n",
        "sum([1, 2, 3, 4, 5, 6, 7, 8, 9, 10])"
      ],
      "metadata": {
        "colab": {
          "base_uri": "https://localhost:8080/"
        },
        "id": "VXXi-YFyMrhG",
        "outputId": "f21801ba-504e-4739-d4fb-7b9173cc0fee"
      },
      "execution_count": 18,
      "outputs": [
        {
          "output_type": "execute_result",
          "data": {
            "text/plain": [
              "55"
            ]
          },
          "metadata": {},
          "execution_count": 18
        }
      ]
    },
    {
      "cell_type": "code",
      "source": [
        "# math\n",
        "import math\n",
        "math.exp(1) # 指數\n",
        "math.log2(2) # log\n",
        "math.sqrt(16) # 開平方"
      ],
      "metadata": {
        "id": "S_tRgvxjM3QM"
      },
      "execution_count": null,
      "outputs": []
    },
    {
      "cell_type": "code",
      "source": [
        "# numpy\n",
        "import numpy as np\n",
        "a_list = [1, 2, 3, 4, 5]\n",
        "np.mean(a_list) # 平均值\n",
        "np.median(a_list) # 中位數\n",
        "np.std(a_list) # 標準差"
      ],
      "metadata": {
        "id": "KMo_1RoINMJQ"
      },
      "execution_count": null,
      "outputs": []
    },
    {
      "cell_type": "code",
      "source": [
        "# string\n",
        "s = \"I'm 3 years old.\"\n",
        "print(s)"
      ],
      "metadata": {
        "colab": {
          "base_uri": "https://localhost:8080/"
        },
        "id": "QlEmQk4uNhtM",
        "outputId": "0938b78d-f663-49fa-fcbb-9a9e1769815e"
      },
      "execution_count": 24,
      "outputs": [
        {
          "output_type": "stream",
          "name": "stdout",
          "text": [
            "I'm 3 years old.\n"
          ]
        }
      ]
    },
    {
      "cell_type": "code",
      "source": [
        "change_s = \"\\\"Python\\\" is good\"\n",
        "print(change_s)"
      ],
      "metadata": {
        "colab": {
          "base_uri": "https://localhost:8080/"
        },
        "id": "fp9Dv3QjNweU",
        "outputId": "df38d65e-8483-425f-cd47-0e7b5106ffb8"
      },
      "execution_count": 25,
      "outputs": [
        {
          "output_type": "stream",
          "name": "stdout",
          "text": [
            "\"Python\" is good\n"
          ]
        }
      ]
    },
    {
      "cell_type": "code",
      "source": [
        "str_a = 'I am '\n",
        "str_b = 'happy'\n",
        "print(str_a + str_b)"
      ],
      "metadata": {
        "colab": {
          "base_uri": "https://localhost:8080/"
        },
        "id": "ogDnz0qiOBWN",
        "outputId": "7b7ae7fd-bfb1-4ed9-96ad-e5faff119539"
      },
      "execution_count": 35,
      "outputs": [
        {
          "output_type": "stream",
          "name": "stdout",
          "text": [
            "I am happy\n"
          ]
        }
      ]
    },
    {
      "cell_type": "code",
      "source": [
        "str_c = str_a + str_b\n",
        "print(3 * str_c)"
      ],
      "metadata": {
        "colab": {
          "base_uri": "https://localhost:8080/"
        },
        "id": "rl6orXKzPR2p",
        "outputId": "76ffffe8-035f-4a81-fa64-70f2350ec69b"
      },
      "execution_count": 36,
      "outputs": [
        {
          "output_type": "stream",
          "name": "stdout",
          "text": [
            "I am happyI am happyI am happy\n"
          ]
        }
      ]
    },
    {
      "cell_type": "code",
      "source": [
        "# 判決是否在str中 (boolean)\n",
        "'happy' in str_c"
      ],
      "metadata": {
        "colab": {
          "base_uri": "https://localhost:8080/"
        },
        "id": "zrFFbjSKPZ0B",
        "outputId": "eeea1158-a5e2-4536-d8fa-776aef392e72"
      },
      "execution_count": 37,
      "outputs": [
        {
          "output_type": "execute_result",
          "data": {
            "text/plain": [
              "True"
            ]
          },
          "metadata": {},
          "execution_count": 37
        }
      ]
    },
    {
      "cell_type": "code",
      "source": [
        "'hello' in str_c"
      ],
      "metadata": {
        "colab": {
          "base_uri": "https://localhost:8080/"
        },
        "id": "NSCxfux4PqAj",
        "outputId": "814c8e8f-459c-47e0-9d56-4f26866c2f72"
      },
      "execution_count": 38,
      "outputs": [
        {
          "output_type": "execute_result",
          "data": {
            "text/plain": [
              "False"
            ]
          },
          "metadata": {},
          "execution_count": 38
        }
      ]
    },
    {
      "cell_type": "code",
      "source": [
        "for i in 'happy':\n",
        "  print(i)"
      ],
      "metadata": {
        "colab": {
          "base_uri": "https://localhost:8080/"
        },
        "id": "DfGaasjoPk-j",
        "outputId": "7b7f678b-e208-486c-8309-8e57c986065e"
      },
      "execution_count": 39,
      "outputs": [
        {
          "output_type": "stream",
          "name": "stdout",
          "text": [
            "h\n",
            "a\n",
            "p\n",
            "p\n",
            "y\n"
          ]
        }
      ]
    },
    {
      "cell_type": "code",
      "source": [
        "# string分割\n",
        "split_c = str_c.split(' ') # 用空格分割\n",
        "print(split_c)"
      ],
      "metadata": {
        "colab": {
          "base_uri": "https://localhost:8080/"
        },
        "id": "dmH7MW4kPol3",
        "outputId": "ea5ab8db-a628-4128-80d5-26fac959e1ea"
      },
      "execution_count": 40,
      "outputs": [
        {
          "output_type": "stream",
          "name": "stdout",
          "text": [
            "['I', 'am', 'happy']\n"
          ]
        }
      ]
    },
    {
      "cell_type": "code",
      "source": [
        "# string聚合\n",
        "s = 'today'\n",
        "join_s = ','.join(s) # 用逗號\n",
        "print(join_s)"
      ],
      "metadata": {
        "colab": {
          "base_uri": "https://localhost:8080/"
        },
        "id": "uTqtnTOcQHP6",
        "outputId": "06fbf372-55a0-4c9a-a0af-72670d1c7030"
      },
      "execution_count": 41,
      "outputs": [
        {
          "output_type": "stream",
          "name": "stdout",
          "text": [
            "t,o,d,a,y\n"
          ]
        }
      ]
    },
    {
      "cell_type": "code",
      "source": [
        "li = ['1', '2', '3']\n",
        "join_li = '*'.join(li)\n",
        "print(join_li)"
      ],
      "metadata": {
        "colab": {
          "base_uri": "https://localhost:8080/"
        },
        "id": "i3sZjfNVQe0S",
        "outputId": "4821cd95-fa70-411a-f122-b50c6a7575dc"
      },
      "execution_count": 42,
      "outputs": [
        {
          "output_type": "stream",
          "name": "stdout",
          "text": [
            "1*2*3\n"
          ]
        }
      ]
    },
    {
      "cell_type": "code",
      "source": [
        "# replace\n",
        "str_r = 'Java is here'\n",
        "replace_str_r = str_r.replace('Java', 'Python')\n",
        "print(replace_str_r)"
      ],
      "metadata": {
        "colab": {
          "base_uri": "https://localhost:8080/"
        },
        "id": "a7JpIOCYQw62",
        "outputId": "c3dbf4cd-4d6c-4fae-d00b-a2f732f23d5a"
      },
      "execution_count": 43,
      "outputs": [
        {
          "output_type": "stream",
          "name": "stdout",
          "text": [
            "Python is here\n"
          ]
        }
      ]
    },
    {
      "cell_type": "code",
      "source": [
        "# string統計\n",
        "str_r = 'Java is here'\n",
        "print(f\"num of a: {str_r.count('a')}\")"
      ],
      "metadata": {
        "colab": {
          "base_uri": "https://localhost:8080/"
        },
        "id": "x85UojutRWuP",
        "outputId": "43aad6a6-a80c-4bde-da1f-df322b6523b4"
      },
      "execution_count": 46,
      "outputs": [
        {
          "output_type": "stream",
          "name": "stdout",
          "text": [
            "num of a: 2\n"
          ]
        }
      ]
    },
    {
      "cell_type": "code",
      "source": [
        "# 轉大寫\n",
        "'PyThon'.upper()"
      ],
      "metadata": {
        "colab": {
          "base_uri": "https://localhost:8080/",
          "height": 35
        },
        "id": "z5TDhnyKRm1q",
        "outputId": "142ace1e-e88a-4439-f690-c69579625b38"
      },
      "execution_count": 50,
      "outputs": [
        {
          "output_type": "execute_result",
          "data": {
            "text/plain": [
              "'PYTHON'"
            ],
            "application/vnd.google.colaboratory.intrinsic+json": {
              "type": "string"
            }
          },
          "metadata": {},
          "execution_count": 50
        }
      ]
    },
    {
      "cell_type": "code",
      "source": [
        "# 轉小寫\n",
        "\"PyThon\".lower()"
      ],
      "metadata": {
        "colab": {
          "base_uri": "https://localhost:8080/",
          "height": 35
        },
        "id": "UUMBuTnHRxxU",
        "outputId": "b2393fd4-0e88-4a67-bd07-b17d516532af"
      },
      "execution_count": 48,
      "outputs": [
        {
          "output_type": "execute_result",
          "data": {
            "text/plain": [
              "'python'"
            ],
            "application/vnd.google.colaboratory.intrinsic+json": {
              "type": "string"
            }
          },
          "metadata": {},
          "execution_count": 48
        }
      ]
    },
    {
      "cell_type": "code",
      "source": [
        "# 首字母大寫\n",
        "'PyThon'.title()"
      ],
      "metadata": {
        "colab": {
          "base_uri": "https://localhost:8080/",
          "height": 35
        },
        "id": "J3pPms5zR9za",
        "outputId": "a7fcf7be-8f8a-4d8e-cdb8-19196599cd7a"
      },
      "execution_count": 49,
      "outputs": [
        {
          "output_type": "execute_result",
          "data": {
            "text/plain": [
              "'Python'"
            ],
            "application/vnd.google.colaboratory.intrinsic+json": {
              "type": "string"
            }
          },
          "metadata": {},
          "execution_count": 49
        }
      ]
    },
    {
      "cell_type": "code",
      "source": [
        "# boolean\n",
        "print(10 == 20) # False\n",
        "print(10 < 20) # True\n",
        "print(10 > 20) # False"
      ],
      "metadata": {
        "colab": {
          "base_uri": "https://localhost:8080/"
        },
        "id": "8ewpk0yxSBHd",
        "outputId": "8a8dea7a-556e-4ea8-cbb4-d0ad8b4c793a"
      },
      "execution_count": 51,
      "outputs": [
        {
          "output_type": "stream",
          "name": "stdout",
          "text": [
            "False\n",
            "True\n",
            "False\n"
          ]
        }
      ]
    },
    {
      "cell_type": "code",
      "source": [
        "# any (有沒有0, False, None)\n",
        "any([False, 1, 0, None])"
      ],
      "metadata": {
        "colab": {
          "base_uri": "https://localhost:8080/"
        },
        "id": "FtABrUfpSPdj",
        "outputId": "2104a2d2-cf8d-4e96-ed86-cd68bac6be51"
      },
      "execution_count": 52,
      "outputs": [
        {
          "output_type": "execute_result",
          "data": {
            "text/plain": [
              "True"
            ]
          },
          "metadata": {},
          "execution_count": 52
        }
      ]
    },
    {
      "cell_type": "code",
      "source": [
        "# all (是否全為0, False, None)\n",
        "all([False, 1, 0, None])"
      ],
      "metadata": {
        "colab": {
          "base_uri": "https://localhost:8080/"
        },
        "id": "0N09xBMSSdPe",
        "outputId": "a6e4d743-02eb-44b1-d2f4-24bf48f9968a"
      },
      "execution_count": 53,
      "outputs": [
        {
          "output_type": "execute_result",
          "data": {
            "text/plain": [
              "False"
            ]
          },
          "metadata": {},
          "execution_count": 53
        }
      ]
    },
    {
      "cell_type": "code",
      "source": [
        "# string中是否只有數字\n",
        "'2020'.isdigit()"
      ],
      "metadata": {
        "colab": {
          "base_uri": "https://localhost:8080/"
        },
        "id": "eCPeJLhpShfT",
        "outputId": "5b5afe93-2837-4369-873e-d4cf97035c15"
      },
      "execution_count": 54,
      "outputs": [
        {
          "output_type": "execute_result",
          "data": {
            "text/plain": [
              "True"
            ]
          },
          "metadata": {},
          "execution_count": 54
        }
      ]
    },
    {
      "cell_type": "code",
      "source": [
        "# string中是否只有字母\n",
        "'hello'.isalpha()"
      ],
      "metadata": {
        "colab": {
          "base_uri": "https://localhost:8080/"
        },
        "id": "Pd-S7HPEUZKu",
        "outputId": "cb5ced70-fa6c-4f37-f5fd-2408e69778dd"
      },
      "execution_count": 55,
      "outputs": [
        {
          "output_type": "execute_result",
          "data": {
            "text/plain": [
              "True"
            ]
          },
          "metadata": {},
          "execution_count": 55
        }
      ]
    }
  ]
}