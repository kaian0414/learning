{
  "nbformat": 4,
  "nbformat_minor": 0,
  "metadata": {
    "colab": {
      "provenance": []
    },
    "kernelspec": {
      "name": "python3",
      "display_name": "Python 3"
    },
    "language_info": {
      "name": "python"
    }
  },
  "cells": [
    {
      "cell_type": "markdown",
      "source": [
        "time"
      ],
      "metadata": {
        "id": "9JQI674liK_E"
      }
    },
    {
      "cell_type": "code",
      "source": [
        "import time\n",
        "\n",
        "localtime = time.localtime()\n",
        "print(f'current local time: {localtime}')\n",
        "\n",
        "# 本地時間string\n",
        "ctime = time.ctime()\n",
        "print(f'本地時間string: {ctime}')"
      ],
      "metadata": {
        "colab": {
          "base_uri": "https://localhost:8080/"
        },
        "id": "4jWkAsDyiSWQ",
        "outputId": "cd135475-4ef6-463f-a555-70d95f72c540"
      },
      "execution_count": 5,
      "outputs": [
        {
          "output_type": "stream",
          "name": "stdout",
          "text": [
            "current local time: time.struct_time(tm_year=2023, tm_mon=1, tm_mday=2, tm_hour=8, tm_min=13, tm_sec=17, tm_wday=0, tm_yday=2, tm_isdst=0)\n",
            "本地時間string: Mon Jan  2 08:13:17 2023\n"
          ]
        }
      ]
    },
    {
      "cell_type": "code",
      "source": [
        "# 時間格式化\n",
        "lctime = time.localtime()\n",
        "time.strftime('%Y-%m-%d %A %H:%M:%S', lctime)"
      ],
      "metadata": {
        "colab": {
          "base_uri": "https://localhost:8080/",
          "height": 35
        },
        "id": "MfJpSaMRisDH",
        "outputId": "54bea2a5-5f2c-4548-bc06-57f9ff9cbf5d"
      },
      "execution_count": 7,
      "outputs": [
        {
          "output_type": "execute_result",
          "data": {
            "text/plain": [
              "'2023-01-02 Monday 08:17:15'"
            ],
            "application/vnd.google.colaboratory.intrinsic+json": {
              "type": "string"
            }
          },
          "metadata": {},
          "execution_count": 7
        }
      ]
    },
    {
      "cell_type": "markdown",
      "source": [
        "random"
      ],
      "metadata": {
        "id": "SjHTvw3ejyA_"
      }
    },
    {
      "cell_type": "code",
      "source": [
        "from random import *\n",
        "\n",
        "seed(10)\n",
        "print(random())\n",
        "\n",
        "seed(10)\n",
        "print(random())\n",
        "\n",
        "# seed值一樣, random結果一樣"
      ],
      "metadata": {
        "colab": {
          "base_uri": "https://localhost:8080/"
        },
        "id": "mz1foYHsjzFA",
        "outputId": "17357449-8f9d-4f31-ccb5-045fd0e13d40"
      },
      "execution_count": 9,
      "outputs": [
        {
          "output_type": "stream",
          "name": "stdout",
          "text": [
            "0.5714025946899135\n",
            "0.5714025946899135\n"
          ]
        }
      ]
    },
    {
      "cell_type": "code",
      "source": [
        "# [a, b]之間的random\n",
        "randint(1, 10)"
      ],
      "metadata": {
        "colab": {
          "base_uri": "https://localhost:8080/"
        },
        "id": "fhkTd0OBj7Q0",
        "outputId": "fe5bb769-ec34-4bc2-9cb9-c79061dcb95e"
      },
      "execution_count": 10,
      "outputs": [
        {
          "output_type": "execute_result",
          "data": {
            "text/plain": [
              "7"
            ]
          },
          "metadata": {},
          "execution_count": 10
        }
      ]
    },
    {
      "cell_type": "code",
      "source": [
        "# [0, a)之間的random\n",
        "randrange(10)"
      ],
      "metadata": {
        "colab": {
          "base_uri": "https://localhost:8080/"
        },
        "id": "CDMIEo32kQob",
        "outputId": "8e56895e-be17-4a82-f2aa-0f235bfdddc9"
      },
      "execution_count": 12,
      "outputs": [
        {
          "output_type": "execute_result",
          "data": {
            "text/plain": [
              "9"
            ]
          },
          "metadata": {},
          "execution_count": 12
        }
      ]
    },
    {
      "cell_type": "code",
      "source": [
        "# [a, b)之間以step為步長的random\n",
        "randrange(0, 10, 2)"
      ],
      "metadata": {
        "colab": {
          "base_uri": "https://localhost:8080/"
        },
        "id": "qyZo66RAkYKF",
        "outputId": "b7eec3be-dff2-46cb-cfab-f63a3fe3ec4a"
      },
      "execution_count": 14,
      "outputs": [
        {
          "output_type": "execute_result",
          "data": {
            "text/plain": [
              "2"
            ]
          },
          "metadata": {},
          "execution_count": 14
        }
      ]
    },
    {
      "cell_type": "code",
      "source": [
        "# 從seq中隨機返回一個元素\n",
        "choice(['win', 'lost', 'draw'])"
      ],
      "metadata": {
        "colab": {
          "base_uri": "https://localhost:8080/",
          "height": 35
        },
        "id": "88O1jxhckjZB",
        "outputId": "14c67af7-8c57-48e6-e7d6-62a98e92c240"
      },
      "execution_count": 19,
      "outputs": [
        {
          "output_type": "execute_result",
          "data": {
            "text/plain": [
              "'win'"
            ],
            "application/vnd.google.colaboratory.intrinsic+json": {
              "type": "string"
            }
          },
          "metadata": {},
          "execution_count": 19
        }
      ]
    },
    {
      "cell_type": "code",
      "source": [
        "# 打亂順序, 隨機排\n",
        "num = ['one', 'two', 'three', 'four', 'five']\n",
        "shuffle(num)\n",
        "print(num)"
      ],
      "metadata": {
        "colab": {
          "base_uri": "https://localhost:8080/"
        },
        "id": "3PLs_zE1k1Az",
        "outputId": "3f6fa7cb-ade0-459e-d268-1a5eb18ddf98"
      },
      "execution_count": 21,
      "outputs": [
        {
          "output_type": "stream",
          "name": "stdout",
          "text": [
            "['four', 'five', 'one', 'three', 'two']\n"
          ]
        }
      ]
    },
    {
      "cell_type": "code",
      "source": [
        "# 隨機取n值\n",
        "sample(['one', 'two', 'three', 'four', 'five'], k=3)"
      ],
      "metadata": {
        "colab": {
          "base_uri": "https://localhost:8080/"
        },
        "id": "snZl5uQFlHfu",
        "outputId": "8ef9462a-04e9-456b-c624-126331f07bf8"
      },
      "execution_count": 22,
      "outputs": [
        {
          "output_type": "execute_result",
          "data": {
            "text/plain": [
              "['two', 'three', 'five']"
            ]
          },
          "metadata": {},
          "execution_count": 22
        }
      ]
    },
    {
      "cell_type": "markdown",
      "source": [
        "collections"
      ],
      "metadata": {
        "id": "cZ5vELG0oIPD"
      }
    },
    {
      "cell_type": "code",
      "source": [
        "# Counter (計數器)\n",
        "from collections import Counter\n",
        "colours = ['red', 'blue', 'pink', 'red', 'yellow', 'blue', 'yellow', 'red', 'red', 'blue', 'red', 'yellow', 'red', 'blue', 'blue', 'yellow', 'pink']\n",
        "counter = Counter(colours)\n",
        "print(counter)"
      ],
      "metadata": {
        "colab": {
          "base_uri": "https://localhost:8080/"
        },
        "id": "5IMzUpXLmFZe",
        "outputId": "ba1bde1f-ecac-438d-e2c7-876a1ce0ae6a"
      },
      "execution_count": 57,
      "outputs": [
        {
          "output_type": "stream",
          "name": "stdout",
          "text": [
            "Counter({'red': 6, 'blue': 5, 'yellow': 4, 'pink': 2})\n"
          ]
        }
      ]
    },
    {
      "cell_type": "code",
      "source": [
        "# most common\n",
        "counter.most_common(2) # get first two"
      ],
      "metadata": {
        "colab": {
          "base_uri": "https://localhost:8080/"
        },
        "id": "aO1UtzjnqmVK",
        "outputId": "1bb62ed8-104c-4865-c191-cbb73d7ae5cc"
      },
      "execution_count": 58,
      "outputs": [
        {
          "output_type": "execute_result",
          "data": {
            "text/plain": [
              "[('red', 6), ('blue', 5)]"
            ]
          },
          "metadata": {},
          "execution_count": 58
        }
      ]
    },
    {
      "cell_type": "markdown",
      "source": [
        "itertools (迭代器)"
      ],
      "metadata": {
        "id": "1MSkMsmArOsA"
      }
    },
    {
      "cell_type": "code",
      "source": [
        "# 笛卡爾積\n",
        "import itertools\n",
        "\n",
        "for i in itertools.product('ABC', '01'):\n",
        "  print(i)"
      ],
      "metadata": {
        "colab": {
          "base_uri": "https://localhost:8080/"
        },
        "id": "hltU5eQjqymE",
        "outputId": "3188deee-3c6e-42d1-d6c5-56bb8c45b5ec"
      },
      "execution_count": 62,
      "outputs": [
        {
          "output_type": "stream",
          "name": "stdout",
          "text": [
            "('A', '0')\n",
            "('A', '1')\n",
            "('B', '0')\n",
            "('B', '1')\n",
            "('C', '0')\n",
            "('C', '1')\n"
          ]
        }
      ]
    },
    {
      "cell_type": "code",
      "source": [
        "# permutations\n",
        "for i in itertools.permutations('ABCD', 3):\n",
        "  print(i)"
      ],
      "metadata": {
        "colab": {
          "base_uri": "https://localhost:8080/"
        },
        "id": "7KpwUKwWrs89",
        "outputId": "db19436e-efac-4e70-fcf5-7cbaee060d6c"
      },
      "execution_count": 63,
      "outputs": [
        {
          "output_type": "stream",
          "name": "stdout",
          "text": [
            "('A', 'B', 'C')\n",
            "('A', 'B', 'D')\n",
            "('A', 'C', 'B')\n",
            "('A', 'C', 'D')\n",
            "('A', 'D', 'B')\n",
            "('A', 'D', 'C')\n",
            "('B', 'A', 'C')\n",
            "('B', 'A', 'D')\n",
            "('B', 'C', 'A')\n",
            "('B', 'C', 'D')\n",
            "('B', 'D', 'A')\n",
            "('B', 'D', 'C')\n",
            "('C', 'A', 'B')\n",
            "('C', 'A', 'D')\n",
            "('C', 'B', 'A')\n",
            "('C', 'B', 'D')\n",
            "('C', 'D', 'A')\n",
            "('C', 'D', 'B')\n",
            "('D', 'A', 'B')\n",
            "('D', 'A', 'C')\n",
            "('D', 'B', 'A')\n",
            "('D', 'B', 'C')\n",
            "('D', 'C', 'A')\n",
            "('D', 'C', 'B')\n"
          ]
        }
      ]
    },
    {
      "cell_type": "code",
      "source": [
        "# combinations\n",
        "for i in itertools.combinations(\"ABCD\", 2):\n",
        "  print(i)"
      ],
      "metadata": {
        "colab": {
          "base_uri": "https://localhost:8080/"
        },
        "id": "mZbRa-nfr5Gs",
        "outputId": "f9952a1e-7a31-4cad-941d-b01b4f2c40aa"
      },
      "execution_count": 64,
      "outputs": [
        {
          "output_type": "stream",
          "name": "stdout",
          "text": [
            "('A', 'B')\n",
            "('A', 'C')\n",
            "('A', 'D')\n",
            "('B', 'C')\n",
            "('B', 'D')\n",
            "('C', 'D')\n"
          ]
        }
      ]
    },
    {
      "cell_type": "code",
      "source": [
        "# zip\n",
        "for i in zip('ABC', '012', 'xyz'):\n",
        "  print(i)"
      ],
      "metadata": {
        "colab": {
          "base_uri": "https://localhost:8080/"
        },
        "id": "dfMEOvv2r_jl",
        "outputId": "59d83d7c-d68d-4b8e-9380-0b20d1a9cc14"
      },
      "execution_count": 65,
      "outputs": [
        {
          "output_type": "stream",
          "name": "stdout",
          "text": [
            "('A', '0', 'x')\n",
            "('B', '1', 'y')\n",
            "('C', '2', 'z')\n"
          ]
        }
      ]
    }
  ]
}