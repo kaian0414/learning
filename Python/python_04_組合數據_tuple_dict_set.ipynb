{
  "nbformat": 4,
  "nbformat_minor": 0,
  "metadata": {
    "colab": {
      "provenance": []
    },
    "kernelspec": {
      "name": "python3",
      "display_name": "Python 3"
    },
    "language_info": {
      "name": "python"
    }
  },
  "cells": [
    {
      "cell_type": "markdown",
      "source": [
        "tuple"
      ],
      "metadata": {
        "id": "zQrBRiQhcKue"
      }
    },
    {
      "cell_type": "code",
      "execution_count": 1,
      "metadata": {
        "id": "KDe1jCSMbDXQ"
      },
      "outputs": [],
      "source": [
        "fruit = ('apple', 'banana', 'orange') # unable to modify, but the other operations are the same as list"
      ]
    },
    {
      "cell_type": "code",
      "source": [
        "# 打包\n",
        "def package(x):\n",
        "  return x**2, x**3\n",
        "\n",
        "print(package(3))"
      ],
      "metadata": {
        "colab": {
          "base_uri": "https://localhost:8080/"
        },
        "id": "Du_D6Z4BbYxH",
        "outputId": "eb6ddf3f-2f73-4261-b61d-24e728c59264"
      },
      "execution_count": 2,
      "outputs": [
        {
          "output_type": "stream",
          "name": "stdout",
          "text": [
            "(9, 27)\n"
          ]
        }
      ]
    },
    {
      "cell_type": "code",
      "source": [
        "id = [1601, 1602, 1603]\n",
        "name = ['Peter', 'Brian', 'Lucas']\n",
        "list(zip(id, name)) # zip打包"
      ],
      "metadata": {
        "colab": {
          "base_uri": "https://localhost:8080/"
        },
        "id": "jAtoDSUNbpcK",
        "outputId": "9941d193-0eb8-46ff-f8a4-6191a89c55be"
      },
      "execution_count": 5,
      "outputs": [
        {
          "output_type": "execute_result",
          "data": {
            "text/plain": [
              "[(1601, 'Peter'), (1602, 'Brian'), (1603, 'Lucas')]"
            ]
          },
          "metadata": {},
          "execution_count": 5
        }
      ]
    },
    {
      "cell_type": "code",
      "source": [
        "for i, n in zip(id, name):\n",
        "  print(f'The student whose id is {i} is called {n}')"
      ],
      "metadata": {
        "colab": {
          "base_uri": "https://localhost:8080/"
        },
        "id": "WA2eONgab0jl",
        "outputId": "a5f283cd-38b4-42cc-c06f-24303b953c7a"
      },
      "execution_count": 7,
      "outputs": [
        {
          "output_type": "stream",
          "name": "stdout",
          "text": [
            "The student whose id is 1601 is called Peter\n",
            "The student whose id is 1602 is called Brian\n",
            "The student whose id is 1603 is called Lucas\n"
          ]
        }
      ]
    },
    {
      "cell_type": "markdown",
      "source": [
        "dict"
      ],
      "metadata": {
        "id": "g5iustd5cM4-"
      }
    },
    {
      "cell_type": "code",
      "source": [
        "stu = {1601: 'Peter', 1602: 'Brian', 1603: 'Lucas'} # key cannot be repeated\n",
        "print(f'length: {len(stu)}')"
      ],
      "metadata": {
        "colab": {
          "base_uri": "https://localhost:8080/"
        },
        "id": "n5Gp62_xcMMe",
        "outputId": "c77feea4-11f9-4a02-8d44-3d0c85f4c3e3"
      },
      "execution_count": 14,
      "outputs": [
        {
          "output_type": "stream",
          "name": "stdout",
          "text": [
            "length: 3\n"
          ]
        }
      ]
    },
    {
      "cell_type": "code",
      "source": [
        "# find value\n",
        "stu[1603]"
      ],
      "metadata": {
        "colab": {
          "base_uri": "https://localhost:8080/",
          "height": 35
        },
        "id": "t78333mvcyJY",
        "outputId": "feba0530-c103-4217-cd24-14fea8298727"
      },
      "execution_count": 15,
      "outputs": [
        {
          "output_type": "execute_result",
          "data": {
            "text/plain": [
              "'Lucas'"
            ],
            "application/vnd.google.colaboratory.intrinsic+json": {
              "type": "string"
            }
          },
          "metadata": {},
          "execution_count": 15
        }
      ]
    },
    {
      "cell_type": "code",
      "source": [
        "# del fromm dict\n",
        "stu = {1601: 'Peter', 1602: 'Brian', 1603: 'Lucas'}\n",
        "del stu[1602]\n",
        "print(stu)"
      ],
      "metadata": {
        "colab": {
          "base_uri": "https://localhost:8080/"
        },
        "id": "FsgIsw-qc3dQ",
        "outputId": "c2f6e05e-0a2f-4d94-c196-ae0e9e6ed13b"
      },
      "execution_count": 17,
      "outputs": [
        {
          "output_type": "stream",
          "name": "stdout",
          "text": [
            "{1601: 'Peter', 1603: 'Lucas'}\n"
          ]
        }
      ]
    },
    {
      "cell_type": "code",
      "source": [
        "# modify\n",
        "stu = {1601: 'Peter', 1602: 'Brian', 1603: 'Lucas'}\n",
        "stu[1602] = 'ian'\n",
        "print(stu)"
      ],
      "metadata": {
        "colab": {
          "base_uri": "https://localhost:8080/"
        },
        "id": "yUOEDmqLdSzt",
        "outputId": "272d5898-6f6e-41c6-9e60-f0efbd796bbb"
      },
      "execution_count": 20,
      "outputs": [
        {
          "output_type": "stream",
          "name": "stdout",
          "text": [
            "{1601: 'Peter', 1602: 'ian', 1603: 'Lucas'}\n"
          ]
        }
      ]
    },
    {
      "cell_type": "code",
      "source": [
        "# get key and value\n",
        "stu = {1601: 'Peter', 1602: 'Brian', 1603: 'Lucas'}\n",
        "k = list(stu.keys())\n",
        "v = list(stu.values())\n",
        "print(f'keys list: {k}')\n",
        "print(f'values list: {v}')"
      ],
      "metadata": {
        "colab": {
          "base_uri": "https://localhost:8080/"
        },
        "id": "eDzgpIu6deNX",
        "outputId": "f9d129e6-b701-4269-d542-fd592f47e936"
      },
      "execution_count": 22,
      "outputs": [
        {
          "output_type": "stream",
          "name": "stdout",
          "text": [
            "keys list: [1601, 1602, 1603]\n",
            "values list: ['Peter', 'Brian', 'Lucas']\n"
          ]
        }
      ]
    },
    {
      "cell_type": "code",
      "source": [
        "# items (整個k,v)\n",
        "stu = {1601: 'Peter', 1602: 'Brian', 1603: 'Lucas'}\n",
        "for k, v in stu.items():\n",
        "  print(k, v)"
      ],
      "metadata": {
        "colab": {
          "base_uri": "https://localhost:8080/"
        },
        "id": "Oo7KG0Qtd4sE",
        "outputId": "507378c6-227b-4302-8ffb-f8538ace58ba"
      },
      "execution_count": 23,
      "outputs": [
        {
          "output_type": "stream",
          "name": "stdout",
          "text": [
            "1601 Peter\n",
            "1602 Brian\n",
            "1603 Lucas\n"
          ]
        }
      ]
    },
    {
      "cell_type": "markdown",
      "source": [
        "set"
      ],
      "metadata": {
        "id": "AkMsbjfpecw9"
      }
    },
    {
      "cell_type": "code",
      "source": [
        "chin_a = {'Ian', 'Lam', 'Peter', 'Mia', 'Jack'}\n",
        "math_a = {'Ian', 'Peter', 'Mia', 'Benedict'}"
      ],
      "metadata": {
        "id": "iMkOiT0VeIFK"
      },
      "execution_count": 25,
      "outputs": []
    },
    {
      "cell_type": "code",
      "source": [
        "# 都包含於2個set (chin_a AND math_a)\n",
        "chin_a & math_a"
      ],
      "metadata": {
        "colab": {
          "base_uri": "https://localhost:8080/"
        },
        "id": "9d988P91ex5K",
        "outputId": "48ee157d-d4ae-4fc1-cd05-cdb5346d7059"
      },
      "execution_count": 26,
      "outputs": [
        {
          "output_type": "execute_result",
          "data": {
            "text/plain": [
              "{'Ian', 'Mia', 'Peter'}"
            ]
          },
          "metadata": {},
          "execution_count": 26
        }
      ]
    },
    {
      "cell_type": "code",
      "source": [
        "# 至少包含於1個set (chin_a OR math_a)\n",
        "chin_a | math_a"
      ],
      "metadata": {
        "colab": {
          "base_uri": "https://localhost:8080/"
        },
        "id": "qCrhgRebfi-F",
        "outputId": "f1436ee8-a556-45a5-ce8f-19915d782b36"
      },
      "execution_count": 27,
      "outputs": [
        {
          "output_type": "execute_result",
          "data": {
            "text/plain": [
              "{'Benedict', 'Ian', 'Jack', 'Lam', 'Mia', 'Peter'}"
            ]
          },
          "metadata": {},
          "execution_count": 27
        }
      ]
    },
    {
      "cell_type": "code",
      "source": [
        "# 只存在於其中一個set\n",
        "chin_a ^ math_a"
      ],
      "metadata": {
        "colab": {
          "base_uri": "https://localhost:8080/"
        },
        "id": "W0jxVFyBf4xV",
        "outputId": "f3497a59-1609-4292-87b5-3125a813fb17"
      },
      "execution_count": 28,
      "outputs": [
        {
          "output_type": "execute_result",
          "data": {
            "text/plain": [
              "{'Benedict', 'Jack', 'Lam'}"
            ]
          },
          "metadata": {},
          "execution_count": 28
        }
      ]
    }
  ]
}