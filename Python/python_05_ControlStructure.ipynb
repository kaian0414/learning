{
  "nbformat": 4,
  "nbformat_minor": 0,
  "metadata": {
    "colab": {
      "provenance": []
    },
    "kernelspec": {
      "name": "python3",
      "display_name": "Python 3"
    },
    "language_info": {
      "name": "python"
    }
  },
  "cells": [
    {
      "cell_type": "code",
      "source": [
        "a = 10\n",
        "b = 20\n",
        "print(a == b) # False\n",
        "print(a < b) # True\n",
        "print(a > b) # False"
      ],
      "metadata": {
        "colab": {
          "base_uri": "https://localhost:8080/"
        },
        "id": "jwAOLhI3rKJg",
        "outputId": "c0a93730-16ff-4077-ad92-96619ec5f372"
      },
      "execution_count": 1,
      "outputs": [
        {
          "output_type": "stream",
          "name": "stdout",
          "text": [
            "False\n",
            "True\n",
            "False\n"
          ]
        }
      ]
    },
    {
      "cell_type": "code",
      "source": [
        "if a < 15:\n",
        "  print('smaller than 15')\n",
        "else:\n",
        "  print('bigger than 15')"
      ],
      "metadata": {
        "colab": {
          "base_uri": "https://localhost:8080/"
        },
        "id": "BFNnkXpkrYJQ",
        "outputId": "494344ea-8d5f-4dd2-df28-2572d7e55c79"
      },
      "execution_count": 2,
      "outputs": [
        {
          "output_type": "stream",
          "name": "stdout",
          "text": [
            "smaller than 15\n"
          ]
        }
      ]
    },
    {
      "cell_type": "code",
      "source": [
        "cnt = 0\n",
        "for i in range(100):\n",
        "  cnt += i\n",
        "print(cnt)"
      ],
      "metadata": {
        "colab": {
          "base_uri": "https://localhost:8080/"
        },
        "id": "NLrnE6j_rk_C",
        "outputId": "cfedc1de-e8bf-4e04-a35e-183a8dd376d6"
      },
      "execution_count": 6,
      "outputs": [
        {
          "output_type": "stream",
          "name": "stdout",
          "text": [
            "4950\n"
          ]
        }
      ]
    },
    {
      "cell_type": "code",
      "source": [
        "# 經典題目: 猜數字\n",
        "age = 18\n",
        "guess = int(input('guess num: '))\n",
        "\n",
        "while guess != age:\n",
        "  if guess > age:\n",
        "    print('too big!!!')\n",
        "  elif guess < age:\n",
        "    print('too small!!!')\n",
        "  guess = int(input('guess num: '))\n",
        "\n",
        "print('Ok! You are correct!')\n",
        "\n",
        "# 注意: 避免條件一直成立, 循環永無休止"
      ],
      "metadata": {
        "colab": {
          "base_uri": "https://localhost:8080/"
        },
        "id": "Tf-mpY3Yr91Z",
        "outputId": "3d29dffc-18c4-418c-86aa-05b90af650c8"
      },
      "execution_count": 7,
      "outputs": [
        {
          "output_type": "stream",
          "name": "stdout",
          "text": [
            "guess num: 3\n",
            "too small!!!\n",
            "guess num: 15\n",
            "too small!!!\n",
            "guess num: 85\n",
            "too big!!!\n",
            "guess num: 30\n",
            "too big!!!\n",
            "guess num: 46\n",
            "too big!!!\n",
            "guess num: 46\n",
            "too big!!!\n",
            "guess num: 18\n",
            "Ok! You are correct!\n"
          ]
        }
      ]
    },
    {
      "cell_type": "code",
      "source": [
        "# break: 退出整個while-loop\n",
        "# continue: 退出本地loop, 再繼續while"
      ],
      "metadata": {
        "id": "jKhXHIbJtEJ7"
      },
      "execution_count": null,
      "outputs": []
    },
    {
      "cell_type": "code",
      "source": [
        "\"\"\"\n",
        "注意問題:\n",
        "1. 盡量減少多層嵌套 (可讀性差)\n",
        "2. 避免死循環\n",
        "3. 封裝過於複雜的判斷條件 (可以封網成函數)\n",
        "\"\"\""
      ],
      "metadata": {
        "id": "ZP5qaWD32YWc"
      },
      "execution_count": null,
      "outputs": []
    }
  ]
}