{
  "nbformat": 4,
  "nbformat_minor": 0,
  "metadata": {
    "colab": {
      "provenance": []
    },
    "kernelspec": {
      "name": "python3",
      "display_name": "Python 3"
    },
    "language_info": {
      "name": "python"
    }
  },
  "cells": [
    {
      "cell_type": "code",
      "execution_count": 1,
      "metadata": {
        "id": "Z4qP7mMzsieb"
      },
      "outputs": [],
      "source": [
        "# 外部文件的交互\n",
        "# r: 只讀模式\n",
        "# w: 覆寫模式 (如果doc不存在, 則create完再寫)\n",
        "# x: 寫模式 (如果doc不存在, 則create完再寫)\n",
        "# a: 追加模式 (如果doc不存在, 則create完再寫)\n",
        "# t: 文本文件模式\n",
        "# b: binary (不可單獨使用)"
      ]
    },
    {
      "cell_type": "code",
      "source": [
        "# 讀入"
      ],
      "metadata": {
        "id": "iuQk_vrQzlcF"
      },
      "execution_count": 11,
      "outputs": []
    },
    {
      "cell_type": "code",
      "source": [
        "with open('./test.txt', 'r', encoding='utf-8') as f:\n",
        "  text = f.read()\n",
        "  print(text)"
      ],
      "metadata": {
        "colab": {
          "base_uri": "https://localhost:8080/"
        },
        "id": "h0r640kvs5W3",
        "outputId": "523b4f37-2936-4147-da67-677fb5130c97"
      },
      "execution_count": 8,
      "outputs": [
        {
          "output_type": "stream",
          "name": "stdout",
          "text": [
            "Hello, this is line 1.\n",
            "Today is 1-Jan, 2023.\n",
            "This is the first day in a new year.\n"
          ]
        }
      ]
    },
    {
      "cell_type": "code",
      "source": [
        "with open ('./test.txt', 'r', encoding='utf-8') as f:\n",
        "  text = f.readline() # 讀一行\n",
        "  print(text)"
      ],
      "metadata": {
        "colab": {
          "base_uri": "https://localhost:8080/"
        },
        "id": "Xs-DhuMRzB18",
        "outputId": "122a62bb-7de0-4b39-a66f-15ed4b58692e"
      },
      "execution_count": 9,
      "outputs": [
        {
          "output_type": "stream",
          "name": "stdout",
          "text": [
            "Hello, this is line 1.\n",
            "\n"
          ]
        }
      ]
    },
    {
      "cell_type": "code",
      "source": [
        "with open ('./test.txt', 'r', encoding='utf-8') as f:\n",
        "  text = f.readlines() # 讀多行\n",
        "  print(text)"
      ],
      "metadata": {
        "colab": {
          "base_uri": "https://localhost:8080/"
        },
        "id": "BV2fiQrQzMjq",
        "outputId": "9ac047e3-f282-4bb2-b66f-d0d1dc5c2a55"
      },
      "execution_count": 10,
      "outputs": [
        {
          "output_type": "stream",
          "name": "stdout",
          "text": [
            "['Hello, this is line 1.\\n', 'Today is 1-Jan, 2023.\\n', 'This is the first day in a new year.']\n"
          ]
        }
      ]
    },
    {
      "cell_type": "code",
      "source": [
        "# 寫"
      ],
      "metadata": {
        "id": "3wG1FBO7zP6b"
      },
      "execution_count": 12,
      "outputs": []
    },
    {
      "cell_type": "code",
      "source": [
        "# 如果文件存在 會覆蓋原內容\n",
        "with open('./test_2.txt', 'w', encoding='utf-8') as f:\n",
        "  f.write('Happy Birthday to you\\n')\n",
        "  f.write('Happy Birthday to you\\n')\n",
        "  f.write('Happy Birthday to you~you\\n')\n",
        "  f.write('Happy Birthday to you\\n')"
      ],
      "metadata": {
        "id": "JVMBH49KzpdK"
      },
      "execution_count": 15,
      "outputs": []
    },
    {
      "cell_type": "code",
      "source": [
        "# 追加模式\n",
        "with open('./test_2.txt', 'a', encoding='utf-8') as f:\n",
        "  f.write('祝你生日快樂!')\n",
        "  f.write('祝你生日快樂!')\n",
        "  f.write('祝你生日快樂~樂!')\n",
        "  f.write('祝你生日快樂!')"
      ],
      "metadata": {
        "id": "Tq0RuH_vz-Z1"
      },
      "execution_count": 17,
      "outputs": []
    },
    {
      "cell_type": "code",
      "source": [
        "# writelines(), 將string list寫入\n",
        "ls = ['123321', '1234567', '234432', '45678910']\n",
        "with open('./song.txt', 'w', encoding='utf-8') as f:\n",
        "  f.writelines(ls)"
      ],
      "metadata": {
        "id": "5Y_ef2Mw0cxA"
      },
      "execution_count": 20,
      "outputs": []
    },
    {
      "cell_type": "code",
      "source": [
        "with open ('./song.txt', 'r', encoding='utf-8') as f:\n",
        "  text = f.read()\n",
        "  print(text)"
      ],
      "metadata": {
        "colab": {
          "base_uri": "https://localhost:8080/"
        },
        "id": "0HHf8FT8040Z",
        "outputId": "0c00def0-24a6-4f36-b1de-db6452526a08"
      },
      "execution_count": 21,
      "outputs": [
        {
          "output_type": "stream",
          "name": "stdout",
          "text": [
            "123321123456723443245678910\n"
          ]
        }
      ]
    },
    {
      "cell_type": "code",
      "source": [
        "# csv寫入\n",
        "ls = [['id', 'math', 'chinese'], ['p01', '99', '89'], ['p02', '76', '86'], ['p03', '79', '67']]\n",
        "with open('./score.csv', 'w', encoding='utf-8') as f:\n",
        "  for row in ls:\n",
        "    f.write(','.join(row)+'\\n')"
      ],
      "metadata": {
        "id": "7MqjFPPa081S"
      },
      "execution_count": 23,
      "outputs": []
    }
  ]
}