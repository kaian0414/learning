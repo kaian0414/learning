{
  "nbformat": 4,
  "nbformat_minor": 0,
  "metadata": {
    "colab": {
      "provenance": []
    },
    "kernelspec": {
      "name": "python3",
      "display_name": "Python 3"
    },
    "language_info": {
      "name": "python"
    }
  },
  "cells": [
    {
      "cell_type": "code",
      "execution_count": 7,
      "metadata": {
        "id": "NRWn5Xiu7n_R"
      },
      "outputs": [],
      "source": [
        "def factoria(n):\n",
        "  res = 1\n",
        "  for i in range(1, n+1):\n",
        "    res *= i\n",
        "  return res"
      ]
    },
    {
      "cell_type": "code",
      "source": [
        "factoria(5)"
      ],
      "metadata": {
        "colab": {
          "base_uri": "https://localhost:8080/"
        },
        "id": "JcXq6p0y86Ci",
        "outputId": "7ab7cd43-17d2-4665-b203-6ed46c05f2f3"
      },
      "execution_count": 8,
      "outputs": [
        {
          "output_type": "execute_result",
          "data": {
            "text/plain": [
              "120"
            ]
          },
          "metadata": {},
          "execution_count": 8
        }
      ]
    },
    {
      "cell_type": "code",
      "source": [
        "def square_area(length):\n",
        "  area = pow(length, 2)\n",
        "  return area"
      ],
      "metadata": {
        "id": "hTp83Cb788Dj"
      },
      "execution_count": 9,
      "outputs": []
    },
    {
      "cell_type": "code",
      "source": [
        "square_area(5)"
      ],
      "metadata": {
        "colab": {
          "base_uri": "https://localhost:8080/"
        },
        "id": "cDVrvI9G-29O",
        "outputId": "7b0d2310-a09e-4b62-82da-cf4875d7cf5c"
      },
      "execution_count": 10,
      "outputs": [
        {
          "output_type": "execute_result",
          "data": {
            "text/plain": [
              "25"
            ]
          },
          "metadata": {},
          "execution_count": 10
        }
      ]
    },
    {
      "cell_type": "code",
      "source": [
        "# default params\n",
        "def reg(name, age, sex='male'):\n",
        "  print(f'reg: {name, age, sex}')"
      ],
      "metadata": {
        "id": "jUPe-uFi-5N9"
      },
      "execution_count": 12,
      "outputs": []
    },
    {
      "cell_type": "code",
      "source": [
        "reg('Peter', 18)"
      ],
      "metadata": {
        "colab": {
          "base_uri": "https://localhost:8080/"
        },
        "id": "k269cRpRB7fQ",
        "outputId": "4c88cc24-5cb2-4c22-baf3-0fb30d7e8a91"
      },
      "execution_count": 13,
      "outputs": [
        {
          "output_type": "stream",
          "name": "stdout",
          "text": [
            "reg: ('Peter', 18, 'male')\n"
          ]
        }
      ]
    },
    {
      "cell_type": "code",
      "source": [
        "reg('ian', 18, 'female')"
      ],
      "metadata": {
        "colab": {
          "base_uri": "https://localhost:8080/"
        },
        "id": "9e2RNSfVCA9Y",
        "outputId": "9456b899-954f-4fb1-9f95-bc610b97c459"
      },
      "execution_count": 14,
      "outputs": [
        {
          "output_type": "stream",
          "name": "stdout",
          "text": [
            "reg: ('ian', 18, 'female')\n"
          ]
        }
      ]
    },
    {
      "cell_type": "code",
      "source": [
        "# *args (可變長參數)\n",
        "def foo(x, y, z, *args):\n",
        "  print(f'x, y, z: {x, y, z}')\n",
        "  print(f'args: {args}')\n",
        "\n",
        "foo(1, 2, 3, 4, 5) # args會放入tuple"
      ],
      "metadata": {
        "colab": {
          "base_uri": "https://localhost:8080/"
        },
        "id": "l7Fvz_gXCEcz",
        "outputId": "5828612f-a203-4b32-db84-7cb7ff56b512"
      },
      "execution_count": 19,
      "outputs": [
        {
          "output_type": "stream",
          "name": "stdout",
          "text": [
            "x, y, z: (1, 2, 3)\n",
            "args: (4, 5)\n"
          ]
        }
      ]
    },
    {
      "cell_type": "code",
      "source": [
        "# **kwargs\n",
        "def foo2(x, y, z, **kwargs):\n",
        "  print(f'x, y, z: {x, y, z}')\n",
        "  print(f'kwargs: {kwargs}')\n",
        "\n",
        "foo2(1, 2, 3, a=4, b=5, c=6) # 多餘傳入的值要賦值, 會組成dict"
      ],
      "metadata": {
        "colab": {
          "base_uri": "https://localhost:8080/"
        },
        "id": "bmvSXFIxGSt9",
        "outputId": "912fa09b-2989-4c3e-a2bf-511e91a8f681"
      },
      "execution_count": 23,
      "outputs": [
        {
          "output_type": "stream",
          "name": "stdout",
          "text": [
            "x, y, z: (1, 2, 3)\n",
            "kwargs: {'a': 4, 'b': 5, 'c': 6}\n"
          ]
        }
      ]
    },
    {
      "cell_type": "code",
      "source": [
        "# 當programme執行到return, 即是function已結束\n",
        "# 沒有return的function, 即其return是None"
      ],
      "metadata": {
        "id": "M0W3zxTEGUQ6"
      },
      "execution_count": 28,
      "outputs": []
    },
    {
      "cell_type": "code",
      "source": [
        "# 匿名函數 (lambda var: func)\n",
        "ls = [(93, 88), (92, 68), (56, 94), (23, 48), (67, 21)]\n",
        "\n",
        "ls.sort() # default按tuple第0值排序\n",
        "print(f'default按tuple第0值排序: {ls}')\n",
        "\n",
        "ls.sort(key = lambda x: x[1]) # 按key定義的排序 (按x[1])\n",
        "print(f'按key定義的排序: {ls}')\n",
        "\n",
        "ls.sort(key = lambda x: x[0]+x[1], reverse=True) # 加總反向排序\n",
        "print(f'加總反向排序: {ls}')"
      ],
      "metadata": {
        "colab": {
          "base_uri": "https://localhost:8080/"
        },
        "id": "veIv9-zUT3HI",
        "outputId": "d0508f67-f405-45db-a071-58e4f2697b73"
      },
      "execution_count": 29,
      "outputs": [
        {
          "output_type": "stream",
          "name": "stdout",
          "text": [
            "default按tuple第0值排序: [(23, 48), (56, 94), (67, 21), (92, 68), (93, 88)]\n",
            "按key定義的排序: [(67, 21), (23, 48), (92, 68), (93, 88), (56, 94)]\n",
            "加總反向排序: [(93, 88), (92, 68), (56, 94), (67, 21), (23, 48)]\n"
          ]
        }
      ]
    },
    {
      "cell_type": "code",
      "source": [],
      "metadata": {
        "id": "jigaaz5zVScU"
      },
      "execution_count": null,
      "outputs": []
    }
  ]
}